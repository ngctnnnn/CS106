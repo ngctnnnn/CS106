{
  "nbformat": 4,
  "nbformat_minor": 0,
  "metadata": {
    "colab": {
      "name": " DQN LunarLander",
      "provenance": [],
      "collapsed_sections": []
    },
    "kernelspec": {
      "name": "python3",
      "display_name": "Python 3"
    },
    "accelerator": "GPU"
  },
  "cells": [
    {
      "cell_type": "code",
      "metadata": {
        "id": "T92WS_qBGPtI"
      },
      "source": [
        "import typing\r\n",
        "\r\n",
        "import torch\r\n",
        "from torch import nn\r\n",
        "\r\n",
        "import collections\r\n",
        "import typing\r\n",
        "\r\n",
        "import numpy as np"
      ],
      "execution_count": null,
      "outputs": []
    },
    {
      "cell_type": "code",
      "metadata": {
        "id": "66P-KWgHGnVK"
      },
      "source": [
        "QNetwork = nn.Module"
      ],
      "execution_count": null,
      "outputs": []
    },
    {
      "cell_type": "code",
      "metadata": {
        "id": "VHGFFX2LGYIv"
      },
      "source": [
        "class LambdaLayer(nn.Module):\r\n",
        "    \r\n",
        "    def __init__(self, f):\r\n",
        "        super().__init__()\r\n",
        "        self._f = f\r\n",
        "        \r\n",
        "    def forward(self, X):\r\n",
        "        return self._f(X)"
      ],
      "execution_count": null,
      "outputs": []
    },
    {
      "cell_type": "code",
      "metadata": {
        "id": "wRFMlalrGY51"
      },
      "source": [
        "def make_deep_q_network_fn(action_size: int) -> typing.Callable[[], QNetwork]:\r\n",
        "    \r\n",
        "    def deep_q_network_fn() -> QNetwork:\r\n",
        "        q_network = nn.Sequential(\r\n",
        "            nn.Conv2d(in_channels=4, out_channels=32, kernel_size=8, stride=4),\r\n",
        "            nn.ReLU(),\r\n",
        "            nn.Conv2d(in_channels=32, out_channels=64, kernel_size=4, stride=2),\r\n",
        "            nn.ReLU(),\r\n",
        "            nn.Conv2d(in_channels=64, out_channels=64, kernel_size=2, stride=1),\r\n",
        "            nn.ReLU(),\r\n",
        "            LambdaLayer(lambda tensor: tensor.view(tensor.size(0), -1)),\r\n",
        "            nn.Linear(in_features=25024, out_features=512),\r\n",
        "            nn.ReLU(),\r\n",
        "            nn.Linear(in_features=512, out_features=action_size)\r\n",
        "        )\r\n",
        "        return q_network\r\n",
        "    \r\n",
        "    return deep_q_network_fn"
      ],
      "execution_count": null,
      "outputs": []
    },
    {
      "cell_type": "code",
      "metadata": {
        "id": "c9U-6YPQGtsg"
      },
      "source": [
        "_field_names = [\r\n",
        "    \"state\",\r\n",
        "    \"action\",\r\n",
        "    \"reward\",\r\n",
        "    \"next_state\",\r\n",
        "    \"done\"\r\n",
        "]\r\n",
        "Experience = collections.namedtuple(\"Experience\", field_names=_field_names)\r\n",
        "\r\n",
        "\r\n",
        "class ExperienceReplayBuffer:\r\n",
        "    \"\"\"Fixed-size buffer to store experience tuples.\"\"\"\r\n",
        "    def __init__(self,\r\n",
        "                 batch_size: int,\r\n",
        "                 buffer_size: int = None,\r\n",
        "                 random_state: np.random.RandomState = None) -> None:\r\n",
        "        \"\"\"\r\n",
        "        Initialize an ExperienceReplayBuffer object.\r\n",
        "        Parameters:\r\n",
        "        -----------\r\n",
        "        buffer_size (int): maximum size of buffer\r\n",
        "        batch_size (int): size of each training batch\r\n",
        "        seed (int): random seed\r\n",
        "        \"\"\"\r\n",
        "        self._batch_size = batch_size\r\n",
        "        self._buffer_size = buffer_size\r\n",
        "        self._buffer = collections.deque(maxlen=buffer_size)\r\n",
        "        self._random_state = np.random.RandomState() if random_state is None else random_state\r\n",
        "        \r\n",
        "    def __len__(self) -> int:\r\n",
        "        return len(self._buffer)\r\n",
        "    \r\n",
        "    @property\r\n",
        "    def batch_size(self) -> int:\r\n",
        "        return self._batch_size\r\n",
        "    \r\n",
        "    @property\r\n",
        "    def buffer_size(self) -> int:\r\n",
        "        return self._buffer_size\r\n",
        "\r\n",
        "    def is_full(self) -> bool:\r\n",
        "        return len(self._buffer) == self._buffer_size\r\n",
        "    \r\n",
        "    def append(self, experience: Experience) -> None:\r\n",
        "        \"\"\"Add a new experience to memory.\"\"\"\r\n",
        "        self._buffer.append(experience)\r\n",
        "    \r\n",
        "    def sample(self) -> typing.List[Experience]:\r\n",
        "        \"\"\"Randomly sample a batch of experiences from memory.\"\"\"\r\n",
        "        idxs = self._random_state.randint(len(self._buffer), size=self._batch_size)\r\n",
        "        experiences = [self._buffer[idx] for idx in idxs]\r\n",
        "        return experiences\r\n"
      ],
      "execution_count": null,
      "outputs": []
    },
    {
      "cell_type": "code",
      "metadata": {
        "colab": {
          "base_uri": "https://localhost:8080/"
        },
        "id": "jcWvZbXYG6Al",
        "outputId": "5f08d81f-5077-43a9-fe83-489c98d82981"
      },
      "source": [
        "%%bash\r\n",
        "\r\n",
        "# install required system dependencies\r\n",
        "apt-get install -y xvfb x11-utils\r\n",
        "\r\n",
        "# install required python dependencies (might need to install additional gym extras depending)\r\n",
        "pip install gym[box2d]==0.17.* pyvirtualdisplay==0.2.* PyOpenGL==3.1.* PyOpenGL-accelerate==3.1.*\r\n"
      ],
      "execution_count": null,
      "outputs": [
        {
          "output_type": "stream",
          "text": [
            "Reading package lists...\n",
            "Building dependency tree...\n",
            "Reading state information...\n",
            "x11-utils is already the newest version (7.7+3build1).\n",
            "xvfb is already the newest version (2:1.19.6-1ubuntu4.8).\n",
            "0 upgraded, 0 newly installed, 0 to remove and 15 not upgraded.\n",
            "Requirement already satisfied: gym[box2d]==0.17.* in /usr/local/lib/python3.6/dist-packages (0.17.3)\n",
            "Collecting pyvirtualdisplay==0.2.*\n",
            "  Using cached https://files.pythonhosted.org/packages/69/ec/8221a07850d69fa3c57c02e526edd23d18c7c05d58ed103e3b19172757c1/PyVirtualDisplay-0.2.5-py2.py3-none-any.whl\n",
            "Requirement already satisfied: PyOpenGL==3.1.* in /usr/local/lib/python3.6/dist-packages (3.1.5)\n",
            "Collecting PyOpenGL-accelerate==3.1.*\n",
            "  Using cached https://files.pythonhosted.org/packages/a2/3c/f42a62b7784c04b20f8b88d6c8ad04f4f20b0767b721102418aad94d8389/PyOpenGL-accelerate-3.1.5.tar.gz\n",
            "Requirement already satisfied: pyglet<=1.5.0,>=1.4.0 in /usr/local/lib/python3.6/dist-packages (from gym[box2d]==0.17.*) (1.5.0)\n",
            "Requirement already satisfied: scipy in /usr/local/lib/python3.6/dist-packages (from gym[box2d]==0.17.*) (1.4.1)\n",
            "Requirement already satisfied: cloudpickle<1.7.0,>=1.2.0 in /usr/local/lib/python3.6/dist-packages (from gym[box2d]==0.17.*) (1.3.0)\n",
            "Requirement already satisfied: numpy>=1.10.4 in /usr/local/lib/python3.6/dist-packages (from gym[box2d]==0.17.*) (1.19.4)\n",
            "Collecting box2d-py~=2.3.5; extra == \"box2d\"\n",
            "  Using cached https://files.pythonhosted.org/packages/06/bd/6cdc3fd994b0649dcf5d9bad85bd9e26172308bbe9a421bfc6fdbf5081a6/box2d_py-2.3.8-cp36-cp36m-manylinux1_x86_64.whl\n",
            "Collecting EasyProcess\n",
            "  Using cached https://files.pythonhosted.org/packages/48/3c/75573613641c90c6d094059ac28adb748560d99bd27ee6f80cce398f404e/EasyProcess-0.3-py2.py3-none-any.whl\n",
            "Requirement already satisfied: future in /usr/local/lib/python3.6/dist-packages (from pyglet<=1.5.0,>=1.4.0->gym[box2d]==0.17.*) (0.16.0)\n",
            "Building wheels for collected packages: PyOpenGL-accelerate\n",
            "  Building wheel for PyOpenGL-accelerate (setup.py): started\n",
            "  Building wheel for PyOpenGL-accelerate (setup.py): finished with status 'done'\n",
            "  Created wheel for PyOpenGL-accelerate: filename=PyOpenGL_accelerate-3.1.5-cp36-cp36m-linux_x86_64.whl size=1593608 sha256=0d2330d0cab34a006355148aa0c76cc72f3d26fc14618019756d2d9ad57ae78f\n",
            "  Stored in directory: /root/.cache/pip/wheels/bd/21/77/99670ceca25fddb3c2b60a7ae44644b8253d1006e8ec417bcc\n",
            "Successfully built PyOpenGL-accelerate\n",
            "Installing collected packages: EasyProcess, pyvirtualdisplay, PyOpenGL-accelerate, box2d-py\n",
            "Successfully installed EasyProcess-0.3 PyOpenGL-accelerate-3.1.5 box2d-py-2.3.8 pyvirtualdisplay-0.2.5\n"
          ],
          "name": "stdout"
        }
      ]
    },
    {
      "cell_type": "code",
      "metadata": {
        "id": "ib7EzlKTJuz-"
      },
      "source": [
        "import pyvirtualdisplay\r\n",
        "\r\n",
        "\r\n",
        "_display = pyvirtualdisplay.Display(visible=False,  # use False with Xvfb\r\n",
        "                                    size=(1400, 900))\r\n",
        "_ = _display.start()"
      ],
      "execution_count": null,
      "outputs": []
    },
    {
      "cell_type": "code",
      "metadata": {
        "id": "x_Ur8CNkJwAO"
      },
      "source": [
        "import gym\r\n",
        "\r\n",
        "env = gym.make('LunarLander-v2')\r\n",
        "_ = env.seed(42)"
      ],
      "execution_count": null,
      "outputs": []
    },
    {
      "cell_type": "code",
      "metadata": {
        "id": "aISFoldvJyr9"
      },
      "source": [
        "class Agent:\r\n",
        "    \r\n",
        "    def choose_action(self, state: np.array) -> int:\r\n",
        "        \"\"\"Rule for choosing an action given the current state of the environment.\"\"\"\r\n",
        "        raise NotImplementedError\r\n",
        "        \r\n",
        "    def save(self, filepath) -> None:\r\n",
        "        \"\"\"Save any important agent state to a file.\"\"\"\r\n",
        "        raise NotImplementedError\r\n",
        "        \r\n",
        "    def step(self,\r\n",
        "             state: np.array,\r\n",
        "             action: int,\r\n",
        "             reward: float,\r\n",
        "             next_state: np.array,\r\n",
        "             done: bool) -> None:\r\n",
        "        \"\"\"Update agent's state after observing the effect of its action on the environment.\"\"\"\r\n",
        "        raise NotImplmentedError\r\n"
      ],
      "execution_count": null,
      "outputs": []
    },
    {
      "cell_type": "code",
      "metadata": {
        "id": "gdmk9Jx8JznC"
      },
      "source": [
        "def _train_for_at_most(agent: Agent, env: gym.Env, max_timesteps: int) -> int:\r\n",
        "    \"\"\"Train agent for a maximum number of timesteps.\"\"\"\r\n",
        "    state = env.reset()\r\n",
        "    score = 0\r\n",
        "    for t in range(max_timesteps):\r\n",
        "        action = agent.choose_action(state)\r\n",
        "        next_state, reward, done, _ = env.step(action)\r\n",
        "        agent.step(state, action, reward, next_state, done)\r\n",
        "        state = next_state\r\n",
        "        score += reward\r\n",
        "        if done:\r\n",
        "            break\r\n",
        "    return score\r\n",
        "\r\n",
        "                \r\n",
        "def _train_until_done(agent: Agent, env: gym.Env) -> float:\r\n",
        "    \"\"\"Train the agent until the current episode is complete.\"\"\"\r\n",
        "    state = env.reset()\r\n",
        "    score = 0\r\n",
        "    done = False\r\n",
        "    while not done:\r\n",
        "        action = agent.choose_action(state)\r\n",
        "        next_state, reward, done, _ = env.step(action)\r\n",
        "        agent.step(state, action, reward, next_state, done)\r\n",
        "        state = next_state\r\n",
        "        score += reward\r\n",
        "    return score\r\n",
        "\r\n",
        "\r\n",
        "def train(agent: Agent,\r\n",
        "          env: gym.Env,\r\n",
        "          checkpoint_filepath: str,\r\n",
        "          target_score: float,\r\n",
        "          number_episodes: int,\r\n",
        "          maximum_timesteps=None) -> typing.List[float]:\r\n",
        "    \"\"\"\r\n",
        "    Reinforcement learning training loop.\r\n",
        "    \r\n",
        "    Parameters:\r\n",
        "    -----------\r\n",
        "    agent (Agent): an agent to train.\r\n",
        "    env (gym.Env): an environment in which to train the agent.\r\n",
        "    checkpoint_filepath (str): filepath used to save the state of the trained agent.\r\n",
        "    number_episodes (int): maximum number of training episodes.\r\n",
        "    maximum_timsteps (int): maximum number of timesteps per episode.\r\n",
        "    \r\n",
        "    Returns:\r\n",
        "    --------\r\n",
        "    scores (list): collection of episode scores from training.\r\n",
        "    \r\n",
        "    \"\"\"\r\n",
        "    scores = []\r\n",
        "    most_recent_scores = collections.deque(maxlen=100)\r\n",
        "    for i in range(number_episodes):\r\n",
        "        if maximum_timesteps is None:\r\n",
        "            score = _train_until_done(agent, env)\r\n",
        "        else:\r\n",
        "            score = _train_for_at_most(agent, env, maximum_timesteps)         \r\n",
        "        scores.append(score)\r\n",
        "        most_recent_scores.append(score)\r\n",
        "        \r\n",
        "        average_score = sum(most_recent_scores) / len(most_recent_scores)\r\n",
        "        if average_score >= target_score:\r\n",
        "            print(f\"\\nEnvironment solved in {i:d} episodes!\\tAverage Score: {average_score:.2f}\")\r\n",
        "            agent.save(checkpoint_filepath)\r\n",
        "            break\r\n",
        "        \r\n",
        "        if (i + 1) % 100 == 0:\r\n",
        "            print(f\"\\rEpisode {i + 1}\\tAverage Score: {average_score:.2f}\")\r\n",
        "\r\n",
        "    return scores"
      ],
      "execution_count": null,
      "outputs": []
    },
    {
      "cell_type": "code",
      "metadata": {
        "id": "NkJ5qcPkJ0wq"
      },
      "source": [
        "from torch import optim\r\n",
        "from torch.nn import functional as F\r\n",
        "\r\n",
        "\r\n",
        "class DeepQAgent(Agent):\r\n",
        "\r\n",
        "    def __init__(self,\r\n",
        "                 state_size: int,\r\n",
        "                 action_size: int,\r\n",
        "                 number_hidden_units: int,\r\n",
        "                 optimizer_fn: typing.Callable[[typing.Iterable[torch.nn.Parameter]], optim.Optimizer],\r\n",
        "                 batch_size: int,\r\n",
        "                 buffer_size: int,\r\n",
        "                 epsilon_decay_schedule: typing.Callable[[int], float],\r\n",
        "                 alpha: float,\r\n",
        "                 gamma: float,\r\n",
        "                 update_frequency: int,\r\n",
        "                 seed: int = None) -> None:\r\n",
        "        \"\"\"\r\n",
        "        Initialize a DeepQAgent.\r\n",
        "        \r\n",
        "        Parameters:\r\n",
        "        -----------\r\n",
        "        state_size (int): the size of the state space.\r\n",
        "        action_size (int): the size of the action space.\r\n",
        "        number_hidden_units (int): number of units in the hidden layers.\r\n",
        "        optimizer_fn (callable): function that takes Q-network parameters and returns an optimizer.\r\n",
        "        batch_size (int): number of experience tuples in each mini-batch.\r\n",
        "        buffer_size (int): maximum number of experience tuples stored in the replay buffer.\r\n",
        "        epsilon_decay_schdule (callable): function that takes episode number and returns epsilon.\r\n",
        "        alpha (float): rate at which the target q-network parameters are updated.\r\n",
        "        gamma (float): Controls how much that agent discounts future rewards (0 < gamma <= 1).\r\n",
        "        update_frequency (int): frequency (measured in time steps) with which q-network parameters are updated.\r\n",
        "        seed (int): random seed\r\n",
        "        \r\n",
        "        \"\"\"\r\n",
        "        self._state_size = state_size\r\n",
        "        self._action_size = action_size\r\n",
        "        self._device = torch.device(\"cuda\" if torch.cuda.is_available() else \"cpu\")\r\n",
        "        \r\n",
        "        # set seeds for reproducibility\r\n",
        "        self._random_state = np.random.RandomState() if seed is None else np.random.RandomState(seed)\r\n",
        "        if seed is not None:\r\n",
        "            torch.manual_seed(seed)\r\n",
        "        if torch.cuda.is_available():\r\n",
        "            torch.backends.cudnn.deterministic = True\r\n",
        "            torch.backends.cudnn.benchmark = False\r\n",
        "        \r\n",
        "        # initialize agent hyperparameters\r\n",
        "        self._experience_replay_buffer = ExperienceReplayBuffer(batch_size, buffer_size, seed)\r\n",
        "        self._epsilon_decay_schedule = epsilon_decay_schedule\r\n",
        "        self._alpha = alpha\r\n",
        "        self._gamma = gamma\r\n",
        "        \r\n",
        "        # initialize Q-Networks\r\n",
        "        self._update_frequency = update_frequency\r\n",
        "        self._local_q_network = self._initialize_q_network(number_hidden_units)\r\n",
        "        self._target_q_network = self._initialize_q_network(number_hidden_units)\r\n",
        "        self._synchronize_q_networks()\r\n",
        "        \r\n",
        "        # send the networks to the device\r\n",
        "        self._local_q_network.to(self._device)\r\n",
        "        self._target_q_network.to(self._device)\r\n",
        "        \r\n",
        "        # initialize the optimizer\r\n",
        "        self._optimizer = optimizer_fn(self._local_q_network.parameters())\r\n",
        "\r\n",
        "        # initialize some counters\r\n",
        "        self._number_episodes = 0\r\n",
        "        self._number_timesteps = 0\r\n",
        "        self._number_parameter_updates = 0\r\n",
        "        \r\n",
        "    def _initialize_q_network(self, number_hidden_units: int) -> nn.Module:\r\n",
        "        \"\"\"Create a neural network for approximating the action-value function.\"\"\"\r\n",
        "        q_network = nn.Sequential(\r\n",
        "            nn.Linear(in_features=self._state_size, out_features=number_hidden_units),\r\n",
        "            nn.ReLU(),\r\n",
        "            nn.Linear(in_features=number_hidden_units, out_features=number_hidden_units),\r\n",
        "            nn.ReLU(),\r\n",
        "            nn.Linear(in_features=number_hidden_units, out_features=self._action_size)\r\n",
        "        )\r\n",
        "        return q_network\r\n",
        "        \r\n",
        "    def _learn_from(self, experiences: typing.List[Experience]) -> None:\r\n",
        "        \"\"\"Heart of the Deep Q-learning algorithm.\"\"\"\r\n",
        "        states, actions, rewards, next_states, dones = (torch.Tensor(vs).to(self._device) for vs in zip(*experiences))\r\n",
        "        \r\n",
        "        # get max predicted Q values (for next states) from target model\r\n",
        "        next_target_q_values, _ = (self._target_q_network(next_states)\r\n",
        "                                       .detach()\r\n",
        "                                       .max(dim=1))\r\n",
        "        \r\n",
        "        # compute the new Q' values using the Q-learning formula\r\n",
        "        target_q_values = rewards + (self._gamma * next_target_q_values * (1 - dones))\r\n",
        "        \r\n",
        "        # get expected Q values from local model\r\n",
        "        _index = (actions.long()\r\n",
        "                         .unsqueeze(dim=1))\r\n",
        "        expected_q_values = (self._local_q_network(states)\r\n",
        "                                 .gather(dim=1, index=_index))\r\n",
        "        # compute the mean squared loss\r\n",
        "        loss = F.mse_loss(expected_q_values, target_q_values.unsqueeze(dim=1))\r\n",
        "        \r\n",
        "        # agent updates the parameters theta of Q using gradient descent\r\n",
        "        self._optimizer.zero_grad()\r\n",
        "        loss.backward()\r\n",
        "        self._optimizer.step()\r\n",
        "        \r\n",
        "        self._soft_update_target_q_network_parameters()\r\n",
        "                 \r\n",
        "    def _soft_update_target_q_network_parameters(self) -> None:\r\n",
        "        \"\"\"Soft-update of target q-network parameters with the local q-network parameters.\"\"\"\r\n",
        "        for target_param, local_param in zip(self._target_q_network.parameters(), self._local_q_network.parameters()):\r\n",
        "            target_param.data.copy_(self._alpha * local_param.data + (1 - self._alpha) * target_param.data)\r\n",
        "    \r\n",
        "    def _synchronize_q_networks(self) -> None:\r\n",
        "        \"\"\"Synchronize the target_q_network and the local_q_network.\"\"\"\r\n",
        "        _ = self._target_q_network.load_state_dict(self._local_q_network.state_dict())\r\n",
        "           \r\n",
        "    def _uniform_random_policy(self, state: torch.Tensor) -> int:\r\n",
        "        \"\"\"Choose an action uniformly at random.\"\"\"\r\n",
        "        return self._random_state.randint(self._action_size)\r\n",
        "        \r\n",
        "    def _greedy_policy(self, state: torch.Tensor) -> int:\r\n",
        "        \"\"\"Choose an action that maximizes the action_values given the current state.\"\"\"\r\n",
        "        # evaluate the network to compute the action values\r\n",
        "        self._local_q_network.eval()\r\n",
        "        with torch.no_grad():\r\n",
        "            action_values = self._local_q_network(state)\r\n",
        "        self._local_q_network.train()\r\n",
        "        \r\n",
        "        # choose the greedy action\r\n",
        "        action = (action_values.cpu()  # action_values might reside on the GPU!\r\n",
        "                               .argmax()\r\n",
        "                               .item())\r\n",
        "        return action\r\n",
        "    \r\n",
        "    def _epsilon_greedy_policy(self, state: torch.Tensor, epsilon: float) -> int:\r\n",
        "        \"\"\"With probability epsilon explore randomly; otherwise exploit knowledge optimally.\"\"\"\r\n",
        "        if self._random_state.random() < epsilon:\r\n",
        "            action = self._uniform_random_policy(state)\r\n",
        "        else:\r\n",
        "            action = self._greedy_policy(state)\r\n",
        "        return action\r\n",
        "\r\n",
        "    def choose_action(self, state: np.array) -> int:\r\n",
        "        \"\"\"\r\n",
        "        Return the action for given state as per current policy.\r\n",
        "        \r\n",
        "        Parameters:\r\n",
        "        -----------\r\n",
        "        state (np.array): current state of the environment.\r\n",
        "        \r\n",
        "        Return:\r\n",
        "        --------\r\n",
        "        action (int): an integer representing the chosen action.\r\n",
        "\r\n",
        "        \"\"\"\r\n",
        "        # need to reshape state array and convert to tensor\r\n",
        "        state_tensor = (torch.from_numpy(state)\r\n",
        "                             .unsqueeze(dim=0)\r\n",
        "                             .to(self._device))\r\n",
        "            \r\n",
        "        # choose uniform at random if agent has insufficient experience\r\n",
        "        if not self.has_sufficient_experience():\r\n",
        "            action = self._uniform_random_policy(state_tensor)\r\n",
        "        else:\r\n",
        "            epsilon = self._epsilon_decay_schedule(self._number_episodes)\r\n",
        "            action = self._epsilon_greedy_policy(state_tensor, epsilon)\r\n",
        "        return action\r\n",
        "    \r\n",
        "    def has_sufficient_experience(self) -> bool:\r\n",
        "        \"\"\"True if agent has enough experience to train on a batch of samples; False otherwise.\"\"\"\r\n",
        "        return len(self._experience_replay_buffer) >= self._experience_replay_buffer.batch_size\r\n",
        "    \r\n",
        "    def save(self, filepath: str) -> None:\r\n",
        "        \"\"\"\r\n",
        "        Saves the state of the DeepQAgent.\r\n",
        "        \r\n",
        "        Parameters:\r\n",
        "        -----------\r\n",
        "        filepath (str): filepath where the serialized state should be saved.\r\n",
        "        \r\n",
        "        Notes:\r\n",
        "        ------\r\n",
        "        The method uses `torch.save` to serialize the state of the q-network, \r\n",
        "        the optimizer, as well as the dictionary of agent hyperparameters.\r\n",
        "        \r\n",
        "        \"\"\"\r\n",
        "        checkpoint = {\r\n",
        "            \"q-network-state\": self._local_q_network.state_dict(),\r\n",
        "            \"optimizer-state\": self._optimizer.state_dict(),\r\n",
        "            \"agent-hyperparameters\": {\r\n",
        "                \"alpha\": self._alpha,\r\n",
        "                \"batch_size\": self._experience_replay_buffer.batch_size,\r\n",
        "                \"buffer_size\": self._experience_replay_buffer.buffer_size,\r\n",
        "                \"gamma\": self._gamma,\r\n",
        "                \"update_frequency\": self._update_frequency\r\n",
        "            }\r\n",
        "        }\r\n",
        "        torch.save(checkpoint, filepath)\r\n",
        "        \r\n",
        "    def step(self, state: np.array, action: int, reward: float, next_state: np.array, done: bool) -> None:\r\n",
        "        \"\"\"\r\n",
        "        Updates the agent's state based on feedback received from the environment.\r\n",
        "        \r\n",
        "        Parameters:\r\n",
        "        -----------\r\n",
        "        state (np.array): the previous state of the environment.\r\n",
        "        action (int): the action taken by the agent in the previous state.\r\n",
        "        reward (float): the reward received from the environment.\r\n",
        "        next_state (np.array): the resulting state of the environment following the action.\r\n",
        "        done (bool): True is the training episode is finised; false otherwise.\r\n",
        "        \r\n",
        "        \"\"\"\r\n",
        "        # save experience in the experience replay buffer\r\n",
        "        experience = Experience(state, action, reward, next_state, done)\r\n",
        "        self._experience_replay_buffer.append(experience)\r\n",
        "            \r\n",
        "        if done:\r\n",
        "            self._number_episodes += 1\r\n",
        "        else:\r\n",
        "            self._number_timesteps += 1\r\n",
        "            \r\n",
        "            # every so often the agent should learn from experiences\r\n",
        "            if self._number_timesteps % self._update_frequency == 0 and self.has_sufficient_experience():\r\n",
        "                experiences = self._experience_replay_buffer.sample()\r\n",
        "                self._learn_from(experiences)\r\n"
      ],
      "execution_count": null,
      "outputs": []
    },
    {
      "cell_type": "code",
      "metadata": {
        "id": "KUtAPdJKJ2m6"
      },
      "source": [
        "def linear_decay_schedule(episode_number: int,\r\n",
        "                          slope: float,\r\n",
        "                          minimum_epsilon: float) -> float:\r\n",
        "    \"\"\"Simple linear decay schedule used in the Deepmind paper.\"\"\"\r\n",
        "    return max(1 - slope * episode_number, minimum_epsilon)\r\n",
        "\r\n",
        "def power_decay_schedule(episode_number: int,\r\n",
        "                         decay_factor: float,\r\n",
        "                         minimum_epsilon: float) -> float:\r\n",
        "    \"\"\"Power decay schedule found in other practical applications.\"\"\"\r\n",
        "    return max(decay_factor**episode_number, minimum_epsilon)\r\n",
        "\r\n",
        "_epsilon_decay_schedule_kwargs = {\r\n",
        "    \"decay_factor\": 0.995,\r\n",
        "    \"minimum_epsilon\": 1e-2,\r\n",
        "}\r\n",
        "\r\n",
        "epsilon_decay_schedule = lambda n: power_decay_schedule(n, **_epsilon_decay_schedule_kwargs)"
      ],
      "execution_count": null,
      "outputs": []
    },
    {
      "cell_type": "code",
      "metadata": {
        "id": "yfRAKgapJ7wh"
      },
      "source": [
        "_optimizer_kwargs = {\r\n",
        "    \"lr\": 1e-2,\r\n",
        "    \"alpha\": 0.99,\r\n",
        "    \"eps\": 1e-08,\r\n",
        "    \"weight_decay\": 0,\r\n",
        "    \"momentum\": 0,\r\n",
        "    \"centered\": False\r\n",
        "}\r\n",
        "optimizer_fn = lambda parameters: optim.RMSprop(parameters, **_optimizer_kwargs)"
      ],
      "execution_count": null,
      "outputs": []
    },
    {
      "cell_type": "code",
      "metadata": {
        "id": "qFn56p0sJ82A"
      },
      "source": [
        "_agent_kwargs = {\r\n",
        "    \"state_size\": env.observation_space.shape[0],\r\n",
        "    \"action_size\": env.action_space.n, \r\n",
        "    \"number_hidden_units\": 64,\r\n",
        "    \"optimizer_fn\": optimizer_fn,\r\n",
        "    \"epsilon_decay_schedule\": epsilon_decay_schedule,\r\n",
        "    \"batch_size\": 64,\r\n",
        "    \"buffer_size\": 100000,\r\n",
        "    \"alpha\": 1e-3,\r\n",
        "    \"gamma\": 0.99,\r\n",
        "    \"update_frequency\": 4,\r\n",
        "    \"seed\": None,\r\n",
        "}\r\n",
        "deep_q_agent = DeepQAgent(**_agent_kwargs)"
      ],
      "execution_count": null,
      "outputs": []
    },
    {
      "cell_type": "code",
      "metadata": {
        "id": "wPudC6RqJ_VY"
      },
      "source": [
        "import matplotlib.pyplot as plt\r\n",
        "from IPython import display\r\n",
        "\r\n",
        "import time\r\n",
        "def simulate(agent: Agent, env: gym.Env, ax: plt.Axes) -> None:\r\n",
        "    state = env.reset()\r\n",
        "    img = ax.imshow(env.render(mode='rgb_array'))\r\n",
        "    done = False\r\n",
        "    while not done:\r\n",
        "        action = agent.choose_action(state)\r\n",
        "        img.set_data(env.render(mode='rgb_array')) \r\n",
        "        plt.axis('off')\r\n",
        "        display.display(plt.gcf())\r\n",
        "        display.clear_output(wait=True)\r\n",
        "        state, reward, done, _ = env.step(action) \r\n",
        "        time.sleep(0.0001)      \r\n",
        "    env.close()"
      ],
      "execution_count": null,
      "outputs": []
    },
    {
      "cell_type": "code",
      "metadata": {
        "colab": {
          "base_uri": "https://localhost:8080/"
        },
        "id": "f0mgrXuM0unT",
        "outputId": "adae1300-92ff-4dc9-bf94-b2946beb2b45"
      },
      "source": [
        "from google.colab import drive\n",
        "drive.mount('/content/drive')"
      ],
      "execution_count": null,
      "outputs": [
        {
          "output_type": "stream",
          "text": [
            "Mounted at /content/drive\n"
          ],
          "name": "stdout"
        }
      ]
    },
    {
      "cell_type": "code",
      "metadata": {
        "colab": {
          "base_uri": "https://localhost:8080/",
          "height": 403
        },
        "id": "YXo3EqkrKH8h",
        "outputId": "ce46da8b-260a-436c-8466-0f3273183cb1"
      },
      "source": [
        "_, ax = plt.subplots(1, 1, figsize=(10, 8))\r\n",
        "simulate(deep_q_agent, env, ax)"
      ],
      "execution_count": null,
      "outputs": [
        {
          "output_type": "display_data",
          "data": {
            "image/png": "[encoded data removed]",
            "text/plain": [
              "<Figure size 720x576 with 1 Axes>"
            ]
          },
          "metadata": {
            "tags": [],
            "needs_background": "light"
          }
        }
      ]
    },
    {
      "cell_type": "code",
      "metadata": {
        "colab": {
          "base_uri": "https://localhost:8080/"
        },
        "id": "wW7nT8VRKPHh",
        "outputId": "09f4b5bb-d988-45ce-e605-3c9a9bcf6fe2"
      },
      "source": [
        "scores = train(deep_q_agent, env, \"checkpoint.pth\", number_episodes=20000, target_score=200)\r\n"
      ],
      "execution_count": null,
      "outputs": [
        {
          "output_type": "stream",
          "text": [
            "Episode 100\tAverage Score: -157.26\n",
            "Episode 200\tAverage Score: -119.58\n",
            "Episode 300\tAverage Score: -36.08\n",
            "Episode 400\tAverage Score: 14.90\n",
            "Episode 500\tAverage Score: 26.12\n",
            "Episode 600\tAverage Score: 124.47\n",
            "Episode 700\tAverage Score: 158.64\n",
            "Episode 800\tAverage Score: 103.27\n",
            "Episode 900\tAverage Score: 121.05\n",
            "Episode 1000\tAverage Score: 161.00\n",
            "Episode 1100\tAverage Score: 170.20\n",
            "Episode 1200\tAverage Score: 154.55\n",
            "Episode 1300\tAverage Score: 124.06\n",
            "Episode 1400\tAverage Score: 140.04\n",
            "Episode 1500\tAverage Score: 175.32\n",
            "Episode 1600\tAverage Score: 178.33\n",
            "Episode 1700\tAverage Score: 99.03\n",
            "Episode 1800\tAverage Score: 158.21\n",
            "Episode 1900\tAverage Score: 184.69\n",
            "\n",
            "Environment solved in 1997 episodes!\tAverage Score: 202.15\n"
          ],
          "name": "stdout"
        }
      ]
    },
    {
      "cell_type": "code",
      "metadata": {
        "colab": {
          "base_uri": "https://localhost:8080/",
          "height": 403
        },
        "id": "_jQ6kQc4La7x",
        "outputId": "8df0f982-465d-48d1-bea9-e47895cf41e7"
      },
      "source": [
        "_, ax = plt.subplots(1, 1, figsize=(10, 8))\r\n",
        "simulate(deep_q_agent, env, ax)"
      ],
      "execution_count": null,
      "outputs": [
        {
          "output_type": "display_data",
          "data": {
            "image/png": "[encoded data removed]",
            "text/plain": [
              "<Figure size 720x576 with 1 Axes>"
            ]
          },
          "metadata": {
            "tags": [],
            "needs_background": "light"
          }
        }
      ]
    },
    {
      "cell_type": "code",
      "metadata": {
        "colab": {
          "base_uri": "https://localhost:8080/"
        },
        "id": "i78xmxCLgOb5",
        "outputId": "c8568794-ae6c-42d3-a6b2-1f38908c8fa7"
      },
      "source": [
        "import pandas as pd \r\n",
        "scores = pd.Series(scores, name=\"scores\")\r\n",
        "scores.describe()"
      ],
      "execution_count": null,
      "outputs": [
        {
          "output_type": "execute_result",
          "data": {
            "text/plain": [
              "count    1998.000000\n",
              "mean       99.123340\n",
              "std       174.896602\n",
              "min      -734.927875\n",
              "25%       -36.809788\n",
              "50%       183.024484\n",
              "75%       249.454729\n",
              "max       313.489185\n",
              "Name: scores, dtype: float64"
            ]
          },
          "metadata": {
            "tags": []
          },
          "execution_count": 27
        }
      ]
    },
    {
      "cell_type": "code",
      "metadata": {
        "colab": {
          "base_uri": "https://localhost:8080/",
          "height": 279
        },
        "id": "c5KsMmYKmylA",
        "outputId": "2c7a7660-3a7e-4004-daab-66f3f8b159cc"
      },
      "source": [
        "fig, ax = plt.subplots(1, 1)\r\n",
        "_ = scores.plot(ax=ax, label=\"Scores\")\r\n",
        "_ = (scores.rolling(window=100)\r\n",
        "           .mean()\r\n",
        "           .rename(\"Rolling Average\")\r\n",
        "           .plot(ax=ax))\r\n",
        "ax.axhline(200, color='k', linestyle=\"dashed\", label=\"Target Score\")\r\n",
        "ax.legend()\r\n",
        "_ = ax.set_xlabel(\"Episode Number\")\r\n",
        "_ = ax.set_ylabel(\"Score\")\r\n"
      ],
      "execution_count": null,
      "outputs": [
        {
          "output_type": "display_data",
          "data": {
            "image/png": "[encoded data removed]",
            "text/plain": [
              "<Figure size 432x288 with 1 Axes>"
            ]
          },
          "metadata": {
            "tags": [],
            "needs_background": "light"
          }
        }
      ]
    },
    {
      "cell_type": "code",
      "metadata": {
        "colab": {
          "base_uri": "https://localhost:8080/",
          "height": 279
        },
        "id": "u7VwSJaJm4p-",
        "outputId": "7bf155ab-062b-459f-e500-be417ea3bdaf"
      },
      "source": [
        "fig, ax = plt.subplots(1,1)\r\n",
        "_ = scores.plot(kind=\"kde\", ax=ax)\r\n",
        "_ = ax.set_xlabel(\"Score\")"
      ],
      "execution_count": null,
      "outputs": [
        {
          "output_type": "display_data",
          "data": {
            "image/png": "[encoded data removed]",
            "text/plain": [
              "<Figure size 432x288 with 1 Axes>"
            ]
          },
          "metadata": {
            "tags": [],
            "needs_background": "light"
          }
        }
      ]
    },
    {
      "cell_type": "code",
      "metadata": {
        "id": "ChRRGAGtBy4Z"
      },
      "source": [
        "deep_q_agent.save('deep_q_agent.model')"
      ],
      "execution_count": null,
      "outputs": []
    }
  ]
}