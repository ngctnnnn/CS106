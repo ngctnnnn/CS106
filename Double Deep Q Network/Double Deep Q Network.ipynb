{
  "nbformat": 4,
  "nbformat_minor": 0,
  "metadata": {
    "colab": {
      "name": "DDQN-Lunar-lander.ipynb",
      "provenance": [],
      "collapsed_sections": []
    },
    "kernelspec": {
      "name": "python3",
      "display_name": "Python 3"
    },
    "accelerator": "GPU"
  },
  "cells": [
    {
      "cell_type": "code",
      "metadata": {
        "id": "r8Ut5s4cuDmM"
      },
      "source": [
        "import numpy as np\r\n",
        "import collections\r\n",
        "import typing\r\n",
        "\r\n",
        "import tensorflow.compat.v1 as tf\r\n",
        "from tensorflow.keras import Model, Sequential\r\n",
        "from tensorflow.keras.layers import Dense, Embedding, Reshape\r\n",
        "from tensorflow.keras.optimizers import Adam\r\n",
        "\r\n",
        "import matplotlib.pyplot as plt\r\n",
        "import random\r\n",
        "from collections import deque\r\n",
        "import time\r\n"
      ],
      "execution_count": null,
      "outputs": []
    },
    {
      "cell_type": "code",
      "metadata": {
        "id": "UEiT_JWkuIci"
      },
      "source": [
        "tf.disable_v2_behavior() # testing on tensorflow 1\r\n"
      ],
      "execution_count": null,
      "outputs": []
    },
    {
      "cell_type": "code",
      "metadata": {
        "id": "8k9jniqVuT2y"
      },
      "source": [
        "class Agent:\r\n",
        "    def __init__(self, env, optimizer, batch_size):\r\n",
        "        # general info\r\n",
        "        self.state_size = env.observation_space.shape[0] # number of factors in the state; e.g: velocity, position, etc\r\n",
        "        self.action_size = env.action_space.n\r\n",
        "        self.optimizer = optimizer\r\n",
        "        self.batch_size = batch_size\r\n",
        "        \r\n",
        "        # allow large replay exp space\r\n",
        "        self.replay_exp = deque(maxlen=1000000)\r\n",
        "        \r\n",
        "        self.gamma = 0.99\r\n",
        "        self.epsilon = 1.0 # initialize with high exploration, which will decay later\r\n",
        "        \r\n",
        "        # Build Policy Network\r\n",
        "        self.brain_policy = Sequential()\r\n",
        "        self.brain_policy.add(Dense(128, input_dim = self.state_size, activation = \"relu\"))\r\n",
        "        self.brain_policy.add(Dense(128 , activation = \"relu\"))\r\n",
        "        self.brain_policy.add(Dense(self.action_size, activation = \"linear\"))\r\n",
        "        self.brain_policy.compile(loss = \"mse\", optimizer = self.optimizer)\r\n",
        "        \r\n",
        "        \r\n",
        "        # Build Target Network\r\n",
        "        self.brain_target = Sequential()\r\n",
        "        self.brain_target.add(Dense(128, input_dim = self.state_size, activation = \"relu\"))\r\n",
        "        self.brain_target.add(Dense(128 , activation = \"relu\"))\r\n",
        "        self.brain_target.add(Dense(self.action_size, activation = \"linear\"))\r\n",
        "        self.brain_target.compile(loss = \"mse\", optimizer = self.optimizer)\r\n",
        "        \r\n",
        "        \r\n",
        "        self.update_brain_target()\r\n",
        "    \r\n",
        "    # add new experience to the replay exp\r\n",
        "    def memorize_exp(self, state, action, reward, next_state, done):\r\n",
        "        self.replay_exp.append((state, action, reward, next_state, done))\r\n",
        "\r\n",
        "    def build_model(self):\r\n",
        "        # a NN with 2 fully connected hidden layers\r\n",
        "        model = Sequential()\r\n",
        "        model.add(Dense(128, input_dim = self.state_size, activation = \"relu\"))\r\n",
        "        model.add(Dense(128 , activation = \"relu\"))\r\n",
        "        model.add(Dense(self.action_size, activation = \"linear\"))\r\n",
        "        model.compile(loss = \"mse\", optimizer = self.optimizer)\r\n",
        "        \r\n",
        "        return model\r\n",
        "    \r\n",
        "    def update_brain_target(self):\r\n",
        "        return self.brain_target.set_weights(self.brain_policy.get_weights())\r\n",
        "    \r\n",
        "    def choose_action(self, state):\r\n",
        "        if np.random.uniform(0.0, 1.0) < self.epsilon: # exploration\r\n",
        "            action = np.random.choice(self.action_size)\r\n",
        "        else:\r\n",
        "            state = np.reshape(state, [1, state_size])\r\n",
        "            qhat = self.brain_policy.predict(state) # output Q(s,a) for all a of current state\r\n",
        "            action = np.argmax(qhat[0]) # because the output is m * n, so we need to consider the dimension [0]\r\n",
        "            \r\n",
        "        return action\r\n",
        "     \r\n",
        "    # update params in NN\r\n",
        "    def learn(self):\r\n",
        "        \"\"\"\r\n",
        "        sample = random.choices(self.replay_exp, k = min(len(self.replay_exp), self.batch_size))\r\n",
        "        \r\n",
        "        \r\n",
        "        states, actions, rewards, next_states, dones = map(list, zip(sample))\r\n",
        "        \r\n",
        "        # add exp to replay exp\r\n",
        "        qhats_next = self.brain_target(next_states)\r\n",
        "        \r\n",
        "        # set all value actions of terminal state to 0\r\n",
        "        qhats_next[dones] = np.zeros((self.action_size))\r\n",
        "        \r\n",
        "        q_targets = rewards + self.gamma * np.max(qhats_next, axis=1) # update greedily\r\n",
        "        \r\n",
        "        self.brain.update_nn(self.sess, states, actions, q_targets)\r\n",
        "        \r\n",
        "        \"\"\"\r\n",
        "        \r\n",
        "        # take a mini-batch from replay experience\r\n",
        "        cur_batch_size = min(len(self.replay_exp), self.batch_size)\r\n",
        "        mini_batch = random.sample(self.replay_exp, cur_batch_size)\r\n",
        "        \r\n",
        "        # batch data\r\n",
        "        sample_states = np.ndarray(shape = (cur_batch_size, self.state_size)) # replace 128 with cur_batch_size\r\n",
        "        sample_actions = np.ndarray(shape = (cur_batch_size, 1))\r\n",
        "        sample_rewards = np.ndarray(shape = (cur_batch_size, 1))\r\n",
        "        sample_next_states = np.ndarray(shape = (cur_batch_size, self.state_size))\r\n",
        "        sample_dones = np.ndarray(shape = (cur_batch_size, 1))\r\n",
        "\r\n",
        "        temp=0\r\n",
        "        for exp in mini_batch:\r\n",
        "            sample_states[temp] = exp[0]\r\n",
        "            sample_actions[temp] = exp[1]\r\n",
        "            sample_rewards[temp] = exp[2]\r\n",
        "            sample_next_states[temp] = exp[3]\r\n",
        "            sample_dones[temp] = exp[4]\r\n",
        "            temp += 1\r\n",
        "        \r\n",
        "         \r\n",
        "        sample_qhat_next = self.brain_target.predict(sample_next_states)\r\n",
        "        \r\n",
        "        # set all Q values terminal states to 0\r\n",
        "        sample_qhat_next = sample_qhat_next * (np.ones(shape = sample_dones.shape) - sample_dones)\r\n",
        "        # choose max action for each state\r\n",
        "        sample_qhat_next = np.max(sample_qhat_next, axis=1)\r\n",
        "        \r\n",
        "        sample_qhat = self.brain_policy.predict(sample_states)\r\n",
        "        \r\n",
        "        for i in range(cur_batch_size):\r\n",
        "            a = sample_actions[i,0]\r\n",
        "            sample_qhat[i,int(a)] = sample_rewards[i] + self.gamma * sample_qhat_next[i]\r\n",
        "            \r\n",
        "        q_target = sample_qhat\r\n",
        "            \r\n",
        "        self.brain_policy.fit(sample_states, q_target, epochs = 1, verbose = 0)\r\n",
        "        \r\n",
        "            \r\n",
        "            \r\n",
        "        \"\"\"\r\n",
        "        \r\n",
        "        for state, action, reward, next_state, done in mini_batch:\r\n",
        "            target_Q_s_a = 0 # new target for Q(s,a)\r\n",
        "            state = np.reshape(state, [1, state_size])\r\n",
        "            next_state = np.reshape(next_state, [1, state_size])\r\n",
        "            \r\n",
        "            # if it is not the terminal state\r\n",
        "            if not done:\r\n",
        "                qhat_next = self.brain_target.predict(next_state)  # estimate Q(s',a')\r\n",
        "                target_Q_s_a = reward + self.gamma * np.amax(qhat_next[0]) # because the output is m * n, so we need to consider the dimension [0]\r\n",
        "            else:\r\n",
        "                target_Q_s_a = reward\r\n",
        "            \r\n",
        "            target_output = self.brain_policy.predict(state) # we will replace target of Q(s,a) for specific a later\r\n",
        "            target_output[0][action] = target_Q_s_a # new target for state s and action a\r\n",
        "            \r\n",
        "            self.brain_policy.fit(state, target_output, epochs = 1, verbose = 0)\r\n",
        "            \r\n",
        "        \"\"\""
      ],
      "execution_count": null,
      "outputs": []
    },
    {
      "cell_type": "code",
      "metadata": {
        "colab": {
          "base_uri": "https://localhost:8080/"
        },
        "id": "vETTO3r73DcJ",
        "outputId": "0f39f401-67ea-4070-e782-ac2c0426cc4b"
      },
      "source": [
        "!pip3 install box2d-py\r\n"
      ],
      "execution_count": null,
      "outputs": [
        {
          "output_type": "stream",
          "text": [
            "Collecting box2d-py\n",
            "\u001b[?25l  Downloading https://files.pythonhosted.org/packages/06/bd/6cdc3fd994b0649dcf5d9bad85bd9e26172308bbe9a421bfc6fdbf5081a6/box2d_py-2.3.8-cp36-cp36m-manylinux1_x86_64.whl (448kB)\n",
            "\r\u001b[K     |▊                               | 10kB 28.4MB/s eta 0:00:01\r\u001b[K     |█▌                              | 20kB 32.1MB/s eta 0:00:01\r\u001b[K     |██▏                             | 30kB 22.1MB/s eta 0:00:01\r\u001b[K     |███                             | 40kB 20.4MB/s eta 0:00:01\r\u001b[K     |███▋                            | 51kB 22.7MB/s eta 0:00:01\r\u001b[K     |████▍                           | 61kB 16.4MB/s eta 0:00:01\r\u001b[K     |█████▏                          | 71kB 17.2MB/s eta 0:00:01\r\u001b[K     |█████▉                          | 81kB 17.7MB/s eta 0:00:01\r\u001b[K     |██████▋                         | 92kB 15.7MB/s eta 0:00:01\r\u001b[K     |███████▎                        | 102kB 17.0MB/s eta 0:00:01\r\u001b[K     |████████                        | 112kB 17.0MB/s eta 0:00:01\r\u001b[K     |████████▊                       | 122kB 17.0MB/s eta 0:00:01\r\u001b[K     |█████████▌                      | 133kB 17.0MB/s eta 0:00:01\r\u001b[K     |██████████▎                     | 143kB 17.0MB/s eta 0:00:01\r\u001b[K     |███████████                     | 153kB 17.0MB/s eta 0:00:01\r\u001b[K     |███████████▊                    | 163kB 17.0MB/s eta 0:00:01\r\u001b[K     |████████████▍                   | 174kB 17.0MB/s eta 0:00:01\r\u001b[K     |█████████████▏                  | 184kB 17.0MB/s eta 0:00:01\r\u001b[K     |█████████████▉                  | 194kB 17.0MB/s eta 0:00:01\r\u001b[K     |██████████████▋                 | 204kB 17.0MB/s eta 0:00:01\r\u001b[K     |███████████████▍                | 215kB 17.0MB/s eta 0:00:01\r\u001b[K     |████████████████                | 225kB 17.0MB/s eta 0:00:01\r\u001b[K     |████████████████▉               | 235kB 17.0MB/s eta 0:00:01\r\u001b[K     |█████████████████▌              | 245kB 17.0MB/s eta 0:00:01\r\u001b[K     |██████████████████▎             | 256kB 17.0MB/s eta 0:00:01\r\u001b[K     |███████████████████             | 266kB 17.0MB/s eta 0:00:01\r\u001b[K     |███████████████████▊            | 276kB 17.0MB/s eta 0:00:01\r\u001b[K     |████████████████████▌           | 286kB 17.0MB/s eta 0:00:01\r\u001b[K     |█████████████████████▏          | 296kB 17.0MB/s eta 0:00:01\r\u001b[K     |██████████████████████          | 307kB 17.0MB/s eta 0:00:01\r\u001b[K     |██████████████████████▋         | 317kB 17.0MB/s eta 0:00:01\r\u001b[K     |███████████████████████▍        | 327kB 17.0MB/s eta 0:00:01\r\u001b[K     |████████████████████████        | 337kB 17.0MB/s eta 0:00:01\r\u001b[K     |████████████████████████▉       | 348kB 17.0MB/s eta 0:00:01\r\u001b[K     |█████████████████████████▋      | 358kB 17.0MB/s eta 0:00:01\r\u001b[K     |██████████████████████████▎     | 368kB 17.0MB/s eta 0:00:01\r\u001b[K     |███████████████████████████     | 378kB 17.0MB/s eta 0:00:01\r\u001b[K     |███████████████████████████▊    | 389kB 17.0MB/s eta 0:00:01\r\u001b[K     |████████████████████████████▌   | 399kB 17.0MB/s eta 0:00:01\r\u001b[K     |█████████████████████████████▏  | 409kB 17.0MB/s eta 0:00:01\r\u001b[K     |██████████████████████████████  | 419kB 17.0MB/s eta 0:00:01\r\u001b[K     |██████████████████████████████▊ | 430kB 17.0MB/s eta 0:00:01\r\u001b[K     |███████████████████████████████▍| 440kB 17.0MB/s eta 0:00:01\r\u001b[K     |████████████████████████████████| 450kB 17.0MB/s \n",
            "\u001b[?25hInstalling collected packages: box2d-py\n",
            "Successfully installed box2d-py-2.3.8\n"
          ],
          "name": "stdout"
        }
      ]
    },
    {
      "cell_type": "code",
      "metadata": {
        "colab": {
          "base_uri": "https://localhost:8080/"
        },
        "id": "0i4dP-QA2tsi",
        "outputId": "03a4bf43-8ea3-4756-8da3-4e4f557ef5bb"
      },
      "source": [
        "import gym\r\n",
        "\r\n",
        "env = gym.make('LunarLander-v2')\r\n",
        "env.reset()\r\n",
        "\r\n"
      ],
      "execution_count": null,
      "outputs": [
        {
          "output_type": "execute_result",
          "data": {
            "text/plain": [
              "array([-0.00250769,  1.4135607 , -0.2540086 ,  0.11736678,  0.00291248,\n",
              "        0.05753676,  0.        ,  0.        ], dtype=float32)"
            ]
          },
          "metadata": {
            "tags": []
          },
          "execution_count": 5
        }
      ]
    },
    {
      "cell_type": "code",
      "metadata": {
        "colab": {
          "base_uri": "https://localhost:8080/"
        },
        "id": "W8CUMwKaKcg7",
        "outputId": "b2f3e139-a117-42de-927c-10b1c7dd0dd8"
      },
      "source": [
        "from google.colab import drive\r\n",
        "drive.mount('/content/drive')"
      ],
      "execution_count": null,
      "outputs": [
        {
          "output_type": "stream",
          "text": [
            "Mounted at /content/drive\n"
          ],
          "name": "stdout"
        }
      ]
    },
    {
      "cell_type": "code",
      "metadata": {
        "id": "xnYVf8yeuWWG"
      },
      "source": [
        "\r\n",
        "optimizer = Adam(learning_rate = 0.0001)\r\n",
        "\r\n",
        "agent = Agent(env, optimizer, batch_size = 64)\r\n",
        "state_size = env.observation_space.shape[0]\r\n",
        "\r\n",
        "#state = env.reset()\r\n",
        "\r\n",
        "#print(state.shape)\r\n",
        "\r\n",
        "# load model\r\n",
        "#agent.brain_policy.set_weights(tf.keras.models.load_model('C:/Users/nhunh/.spyder-py3/Model1.h5').get_weights())"
      ],
      "execution_count": null,
      "outputs": []
    },
    {
      "cell_type": "code",
      "metadata": {
        "id": "0cZW8cHluGYi",
        "colab": {
          "base_uri": "https://localhost:8080/"
        },
        "outputId": "90543811-b9c5-4937-a390-36102981429f"
      },
      "source": [
        "timestep=0\r\n",
        "rewards = []\r\n",
        "aver_reward = []\r\n",
        "aver = deque(maxlen=100)\r\n",
        "total_score_aver = 0\r\n",
        "\r\n",
        "for episode in range(1000):\r\n",
        "    state = env.reset()\r\n",
        "    total_reward = 0\r\n",
        "    done = False\r\n",
        "    \r\n",
        "    while not done:\r\n",
        "        action = agent.choose_action(state)\r\n",
        "        next_state, reward, done, info = env.step(action)\r\n",
        "        \r\n",
        "        # env.render()\r\n",
        "\r\n",
        "        total_reward += reward\r\n",
        "        \r\n",
        "        agent.memorize_exp(state, action, reward, next_state, done)\r\n",
        "        agent.learn()\r\n",
        "        \r\n",
        "        state = next_state\r\n",
        "        timestep += 1\r\n",
        "        \r\n",
        "        \r\n",
        "    aver.append(total_reward)     \r\n",
        "    aver_reward.append(np.mean(aver))\r\n",
        "    \r\n",
        "    rewards.append(total_reward)\r\n",
        "        \r\n",
        "    # update model_target after each episode\r\n",
        "    agent.update_brain_target()\r\n",
        "\r\n",
        "    agent.epsilon = max(0.1, 0.995 * agent.epsilon) # decaying exploration\r\n",
        "    \r\n",
        "    total_score_aver += total_reward\r\n",
        "    if ((episode + 1) % 100 == 0):\r\n",
        "        aver_score = total_score_aver / 100\r\n",
        "        print(\"Episode \", episode + 1, \"Average Score: \", aver_score)\r\n",
        "    \r\n",
        "    \"\"\"\r\n",
        "    if episode % 50 == 0:\r\n",
        "        agent.brain_policy.save(\"C:/Users/nhunh/.spyder-py3/Newest_update.h5\")\r\n",
        "    \"\"\"\r\n",
        "    \r\n"
      ],
      "execution_count": null,
      "outputs": [
        {
          "output_type": "stream",
          "text": [
            "/usr/local/lib/python3.6/dist-packages/tensorflow/python/keras/engine/training.py:2325: UserWarning: `Model.state_updates` will be removed in a future version. This property should not be used in TensorFlow 2.0, as `updates` are applied automatically.\n",
            "  warnings.warn('`Model.state_updates` will be removed in a future version. '\n"
          ],
          "name": "stderr"
        },
        {
          "output_type": "stream",
          "text": [
            "Episode  100 Average Score:  -130.6536174878384\n",
            "Episode  200 Average Score:  -213.90971408524894\n",
            "Episode  300 Average Score:  -264.8930534368811\n",
            "Episode  400 Average Score:  -296.5178197435907\n",
            "Episode  500 Average Score:  -306.55792585655513\n",
            "Episode  600 Average Score:  -142.29316003824044\n",
            "Episode  700 Average Score:  103.9493934625809\n",
            "Episode  800 Average Score:  355.76118680574785\n",
            "Episode  900 Average Score:  575.277801923405\n",
            "Episode  1000 Average Score:  810.1509270120716\n"
          ],
          "name": "stdout"
        }
      ]
    },
    {
      "cell_type": "code",
      "metadata": {
        "id": "5ZRhbevI_YtD",
        "colab": {
          "base_uri": "https://localhost:8080/",
          "height": 295
        },
        "outputId": "4d55836c-bd76-4b26-9ffc-7708d35c0637"
      },
      "source": [
        "plt.title(\"Learning Curve\")\r\n",
        "plt.xlabel(\"Episode\")\r\n",
        "plt.ylabel(\"Reward\")\r\n",
        "plt.plot(rewards)\r\n",
        "\r\n",
        "plt.xlabel(\"Episode\")\r\n",
        "plt.ylabel(\"Reward\")\r\n",
        "plt.plot(aver_reward, 'r')\r\n",
        "\r\n",
        "agent.brain_policy.save('C:/Users/nhunh/.spyder-py3/Model1.h5')"
      ],
      "execution_count": null,
      "outputs": [
        {
          "output_type": "display_data",
          "data": {
            "image/png": "[encoded data removed]",
            "text/plain": [
              "<Figure size 432x288 with 1 Axes>"
            ]
          },
          "metadata": {
            "tags": [],
            "needs_background": "light"
          }
        }
      ]
    }
  ]
}